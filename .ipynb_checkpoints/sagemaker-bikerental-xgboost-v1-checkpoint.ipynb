{
 "cells": [
  {
   "cell_type": "code",
   "execution_count": null,
   "metadata": {},
   "outputs": [],
   "source": [
    "# Sage maker notebook. This notebook uses the BileRental data and XGBoost algorithm\n",
    "# The output file will be available for upload to kaggle for the kaggle score ( Need to add this to Readme)"
   ]
  },
  {
   "cell_type": "code",
   "execution_count": 1,
   "metadata": {},
   "outputs": [
    {
     "name": "stdout",
     "output_type": "stream",
     "text": [
      "Solving environment: done\n",
      "\n",
      "\n",
      "==> WARNING: A newer version of conda exists. <==\n",
      "  current version: 4.5.12\n",
      "  latest version: 4.7.12\n",
      "\n",
      "Please update conda by running\n",
      "\n",
      "    $ conda update -n base -c defaults conda\n",
      "\n",
      "\n",
      "\n",
      "## Package Plan ##\n",
      "\n",
      "  environment location: /home/ec2-user/anaconda3/envs/python3\n",
      "\n",
      "  added / updated specs: \n",
      "    - xgboost\n",
      "\n",
      "\n",
      "The following packages will be downloaded:\n",
      "\n",
      "    package                    |            build\n",
      "    ---------------------------|-----------------\n",
      "    xgboost-0.90               |   py36he1b5a44_4          11 KB  conda-forge\n",
      "    py-xgboost-0.90            |           py36_4          73 KB  conda-forge\n",
      "    openssl-1.0.2t             |       h14c3975_0         3.1 MB  conda-forge\n",
      "    mkl_random-1.0.2           |           py36_0         1.3 MB  conda-forge\n",
      "    tbb-2019.9                 |       hc9558a2_0         1.4 MB  conda-forge\n",
      "    mkl_fft-1.0.10             |           py36_0         650 KB  conda-forge\n",
      "    _py-xgboost-mutex-2.0      |            cpu_0           8 KB  conda-forge\n",
      "    tbb4py-2019.9              |   py36hc9558a2_0         245 KB  conda-forge\n",
      "    libxgboost-0.90            |       he1b5a44_4         2.4 MB  conda-forge\n",
      "    ------------------------------------------------------------\n",
      "                                           Total:         9.2 MB\n",
      "\n",
      "The following NEW packages will be INSTALLED:\n",
      "\n",
      "    _py-xgboost-mutex: 2.0-cpu_0             conda-forge\n",
      "    libxgboost:        0.90-he1b5a44_4       conda-forge\n",
      "    py-xgboost:        0.90-py36_4           conda-forge\n",
      "    tbb:               2019.9-hc9558a2_0     conda-forge\n",
      "    tbb4py:            2019.9-py36hc9558a2_0 conda-forge\n",
      "    xgboost:           0.90-py36he1b5a44_4   conda-forge\n",
      "\n",
      "The following packages will be UPDATED:\n",
      "\n",
      "    ca-certificates:   2019.5.15-0                       --> 2019.9.11-hecc5488_0 conda-forge\n",
      "    certifi:           2019.6.16-py36_0                  --> 2019.9.11-py36_0     conda-forge\n",
      "    mkl_fft:           1.0.1-py36h3010b51_0              --> 1.0.10-py36_0        conda-forge\n",
      "    mkl_random:        1.0.1-py36h629b387_0              --> 1.0.2-py36_0         conda-forge\n",
      "    openssl:           1.0.2s-h7b6447c_0                 --> 1.0.2t-h14c3975_0    conda-forge\n",
      "\n",
      "\n",
      "Downloading and Extracting Packages\n",
      "xgboost-0.90         | 11 KB     | ##################################### | 100% \n",
      "py-xgboost-0.90      | 73 KB     | ##################################### | 100% \n",
      "openssl-1.0.2t       | 3.1 MB    | ##################################### | 100% \n",
      "mkl_random-1.0.2     | 1.3 MB    | ##################################### | 100% \n",
      "tbb-2019.9           | 1.4 MB    | ##################################### | 100% \n",
      "mkl_fft-1.0.10       | 650 KB    | ##################################### | 100% \n",
      "_py-xgboost-mutex-2. | 8 KB      | ##################################### | 100% \n",
      "tbb4py-2019.9        | 245 KB    | ##################################### | 100% \n",
      "libxgboost-0.90      | 2.4 MB    | ##################################### | 100% \n",
      "Preparing transaction: done\n",
      "Verifying transaction: done\n",
      "Executing transaction: done\n"
     ]
    }
   ],
   "source": [
    "# Install xgboost on the notebook instance\n",
    "!conda install -y -c conda-forge xgboost"
   ]
  },
  {
   "cell_type": "code",
   "execution_count": 17,
   "metadata": {},
   "outputs": [],
   "source": [
    "# import numpy, pandas, sagemaker, xgboost\n",
    "\n",
    "import sys\n",
    "import math\n",
    "import os\n",
    "import matplotlib.pyplot as plt\n",
    "import numpy as np\n",
    "import pandas as pd\n",
    "import boto3\n",
    "\n",
    "import sagemaker\n",
    "from sagemaker import get_execution_role\n",
    "\n",
    "# XGBoost\n",
    "import xgboost as xgb"
   ]
  },
  {
   "cell_type": "code",
   "execution_count": 2,
   "metadata": {},
   "outputs": [],
   "source": [
    "# Sagemaker requires that the target variable be the first variable. \n",
    "# Define the columns to include count as the first vavariable\n",
    "columns = ['count', 'season', 'holiday', 'workingday', 'weather', 'temp',\n",
    "       'atemp', 'humidity', 'windspeed', 'year', 'month', 'day', 'dayofweek','hour']"
   ]
  },
  {
   "cell_type": "code",
   "execution_count": 5,
   "metadata": {},
   "outputs": [],
   "source": [
    "df = pd.read_csv('train.csv', parse_dates=['datetime'], index_col=0)"
   ]
  },
  {
   "cell_type": "code",
   "execution_count": 6,
   "metadata": {},
   "outputs": [],
   "source": [
    "df_test = pd.read_csv('test.csv', parse_dates=['datetime'], index_col=0)"
   ]
  },
  {
   "cell_type": "code",
   "execution_count": 7,
   "metadata": {},
   "outputs": [],
   "source": [
    "# from the index feature get the year, month, day, dayofweek, and hour as new columns\n",
    "def add_features(df):\n",
    "    df['year'] = df.index.year\n",
    "    df['month'] = df.index.month\n",
    "    df['day'] = df.index.day\n",
    "    df['dayofweek'] = df.index.dayofweek\n",
    "    df['hour'] = df.index.hour"
   ]
  },
  {
   "cell_type": "code",
   "execution_count": 8,
   "metadata": {},
   "outputs": [],
   "source": [
    "# add the new features to the df and df_test data frame\n",
    "add_features(df)\n",
    "add_features(df_test)"
   ]
  },
  {
   "cell_type": "code",
   "execution_count": null,
   "metadata": {},
   "outputs": [],
   "source": [
    "# for the train data frame look at the target column count \n",
    "df['count'].describe()"
   ]
  },
  {
   "cell_type": "code",
   "execution_count": 9,
   "metadata": {},
   "outputs": [],
   "source": [
    "# Log on the count column\n",
    "df['count'] = df['count'].map(np.log1p)"
   ]
  },
  {
   "cell_type": "code",
   "execution_count": 10,
   "metadata": {},
   "outputs": [],
   "source": [
    "# copy the data in the data frame into a csv file. The csv file will be uploaded to s3 bucket to be used by the model\n",
    "df.to_csv('bike_all.csv', index=True, index_label='datetime', columns=columns)"
   ]
  },
  {
   "cell_type": "markdown",
   "metadata": {},
   "source": [
    "# Training and Validation data\n",
    " Have 70% of the training dataset and 30% of the validation data set\n",
    " Sagemaker requires that the files do not have headers and the target column be the first column"
   ]
  },
  {
   "cell_type": "markdown",
   "metadata": {},
   "source": [
    "### Train, validation, and test data is written into files. Columns list is also written into a text file.\n",
    "### This is done for pushing the data into s3 for consumption using Sagemaker."
   ]
  },
  {
   "cell_type": "code",
   "execution_count": 12,
   "metadata": {},
   "outputs": [],
   "source": [
    "np.random.seed(5)\n",
    "l = list(df.index)\n",
    "np.random.shuffle(l)\n",
    "df =df.loc[l]"
   ]
  },
  {
   "cell_type": "code",
   "execution_count": 11,
   "metadata": {},
   "outputs": [
    {
     "data": {
      "text/plain": [
       "(10886, 7620, 3266)"
      ]
     },
     "execution_count": 11,
     "metadata": {},
     "output_type": "execute_result"
    }
   ],
   "source": [
    "rows = df.shape[0]\n",
    "train = int(.7*rows)\n",
    "test = rows - train\n",
    "\n",
    "rows, train, test"
   ]
  },
  {
   "cell_type": "code",
   "execution_count": 13,
   "metadata": {},
   "outputs": [],
   "source": [
    "df[:train].to_csv('bike_train.csv',\n",
    "                  index=False, header=False,\n",
    "                  columns=columns)"
   ]
  },
  {
   "cell_type": "code",
   "execution_count": 14,
   "metadata": {},
   "outputs": [],
   "source": [
    "df[train:].to_csv('bike_validation.csv',\n",
    "                   index=False, header=False,\n",
    "                   columns=columns)"
   ]
  },
  {
   "cell_type": "code",
   "execution_count": 15,
   "metadata": {},
   "outputs": [],
   "source": [
    "# Test data has on input features\n",
    "df_test.to_csv('bike_test.csv',index=True,index_label='datetime')"
   ]
  },
  {
   "cell_type": "code",
   "execution_count": 16,
   "metadata": {},
   "outputs": [],
   "source": [
    "with open('bike_train_column_list.txt','w') as f:\n",
    "    f.write(','.join(columns))"
   ]
  },
  {
   "cell_type": "markdown",
   "metadata": {},
   "source": [
    "# Sagemaker section starts here"
   ]
  },
  {
   "cell_type": "code",
   "execution_count": 18,
   "metadata": {},
   "outputs": [],
   "source": [
    "# specify the bucket name\n",
    "# specify the folder path within the S3 bucket \n",
    "# for training, test, and validation files\n",
    "bucket_name = 'napa-ml-sagemaker'\n",
    "\n",
    "training_folder = 'bikerental/training/'\n",
    "test_folder = 'bikerental/test'\n",
    "validation_folder = 'bikerental/validation'\n",
    "\n",
    "\n",
    "s3_model_output_location = r's3://{0}/bikerental/model'.format(bucket_name)\n",
    "s3_training_file_location = r's3://{0}/{1}'.format(bucket_name,training_folder)\n",
    "s3_test_file_location = r's3://{0}/{1}'.format(bucket_name, test_folder)\n",
    "s3_validation_file_location = r's3://{0}/{1}'.format(bucket_name, validation_folder)"
   ]
  },
  {
   "cell_type": "code",
   "execution_count": 19,
   "metadata": {},
   "outputs": [],
   "source": [
    "# It is easy to write and read from s3\n",
    "# files are referred to as objects in s3\n",
    "# file names are referred to as key name in s3\n",
    "\n",
    "# http://boto3.readthedocs.io/en/latest/guide/s3.html\n",
    "def write_to_s3(filename, bucket, key):\n",
    "    with open(filename,'rb') as f: # Read in binary mode\n",
    "        return boto3.Session().resource('s3').Bucket(bucket).Object(key).upload_fileobj(f)"
   ]
  },
  {
   "cell_type": "code",
   "execution_count": 20,
   "metadata": {},
   "outputs": [],
   "source": [
    "# Write the files that were created with the data \n",
    "# for the training, test, and validation \n",
    "# along with the columns list to s3\n",
    "# for further usage in the sagemaker models\n",
    "\n",
    "write_to_s3('bike_train.csv',\n",
    "             bucket_name,\n",
    "             training_folder + 'bike_train.csv')\n",
    "\n",
    "write_to_s3('bike_validation.csv',\n",
    "             bucket_name,\n",
    "             validation_folder + 'bike_validation.csv')\n",
    "\n",
    "write_to_s3('bike_test.csv',\n",
    "             bucket_name,\n",
    "             test_folder + 'bike_test.csv')"
   ]
  },
  {
   "cell_type": "markdown",
   "metadata": {},
   "source": [
    "# Training Algorithm Docker image\n",
    "### Sagemaker maintains a separate docker image for algorithm and region"
   ]
  },
  {
   "cell_type": "code",
   "execution_count": 21,
   "metadata": {},
   "outputs": [],
   "source": [
    "# Establish a sagemaker session with AWS\n",
    "sess = sagemaker.Session()"
   ]
  },
  {
   "cell_type": "code",
   "execution_count": 23,
   "metadata": {},
   "outputs": [],
   "source": [
    "# Get the role that has the permission to train, deploy models in Sagemaker\n",
    "role = get_execution_role()"
   ]
  },
  {
   "cell_type": "code",
   "execution_count": 24,
   "metadata": {},
   "outputs": [
    {
     "name": "stderr",
     "output_type": "stream",
     "text": [
      "WARNING:root:There is a more up to date SageMaker XGBoost image.To use the newer image, please set 'repo_version'='0.90-1. For example:\n",
      "\tget_image_uri(region, 'xgboost', '0.90-1').\n"
     ]
    },
    {
     "name": "stdout",
     "output_type": "stream",
     "text": [
      "Using Sagemaker container: \n",
      " 811284229777.dkr.ecr.us-east-1.amazonaws.com/xgboost:latest (us-east-1)\n"
     ]
    }
   ],
   "source": [
    "# Sagemaker API mantains the algorithm container mapping\n",
    "# Specify the region, algorithm , and version\n",
    "container = sagemaker.amazon.amazon_estimator.get_image_uri(\n",
    "             sess.boto_region_name,\n",
    "             \"xgboost\",\n",
    "             \"latest\")\n",
    "\n",
    "print(\"Using Sagemaker container: \\n {} ({})\".format(container, sess.boto_region_name))"
   ]
  },
  {
   "cell_type": "markdown",
   "metadata": {},
   "source": [
    "# Configure the training job\n",
    "# Specify type and number of instances to use\n",
    "# S3 location where final artifacts need to be stored\n",
    "\n",
    "estimator = sagemaker.estimator.Estimator(\n",
    "            container,\n",
    "            role,\n",
    "            train_instance_count=1,\n",
    "            train_instance_type='ml.m4.xlarge',\n",
    "            output_path=s3_model_output_location,\n",
    "            sagemaker_session=sess,\n",
    "            base_job_name='xgboost-bikerental-v1')"
   ]
  },
  {
   "cell_type": "code",
   "execution_count": 26,
   "metadata": {},
   "outputs": [],
   "source": [
    "# Specify the hyperparameter that is appropiate for the algorithm\n",
    "\n",
    "# max_depth=5, eta(learning rate)=0.1, subsample=0.7, num_round=150\n",
    "estimator.set_hyperparameters(max_depth=5,\n",
    "                              objective=\"reg:linear\",\n",
    "                              eta=0.1,\n",
    "                              num_round=150)"
   ]
  },
  {
   "cell_type": "code",
   "execution_count": 29,
   "metadata": {},
   "outputs": [
    {
     "data": {
      "text/plain": [
       "{'max_depth': 5, 'objective': 'reg:linear', 'eta': 0.1, 'num_round': 150}"
      ]
     },
     "execution_count": 29,
     "metadata": {},
     "output_type": "execute_result"
    }
   ],
   "source": [
    "estimator.hyperparameters()"
   ]
  },
  {
   "cell_type": "markdown",
   "metadata": {},
   "source": [
    "## Specify the training data and validation data location"
   ]
  },
  {
   "cell_type": "code",
   "execution_count": 30,
   "metadata": {},
   "outputs": [],
   "source": [
    "# content type can be lisvm or csv for XGBoost\n",
    "training_input_config = sagemaker.session.s3_input(\n",
    "            s3_data=s3_training_file_location,\n",
    "            content_type='csv',\n",
    "            s3_data_type='S3Prefix')\n",
    "\n",
    "validation_input_config = sagemaker.session.s3_input(\n",
    "            s3_data=s3_validation_file_location,\n",
    "            content_type='csv',\n",
    "            s3_data_type='S3Prefix')\n",
    "\n",
    "data_channels = {'train':training_input_config, 'validation':validation_input_config}"
   ]
  },
  {
   "cell_type": "markdown",
   "metadata": {},
   "source": [
    "### Train the model"
   ]
  },
  {
   "cell_type": "code",
   "execution_count": 31,
   "metadata": {},
   "outputs": [
    {
     "name": "stdout",
     "output_type": "stream",
     "text": [
      "2019-11-10 15:36:28 Starting - Starting the training job...\n",
      "2019-11-10 15:36:29 Starting - Launching requested ML instances......\n",
      "2019-11-10 15:37:31 Starting - Preparing the instances for training......\n",
      "2019-11-10 15:38:48 Downloading - Downloading input data...\n",
      "2019-11-10 15:39:22 Training - Downloading the training image...\n",
      "2019-11-10 15:39:52 Uploading - Uploading generated training model\n",
      "2019-11-10 15:39:52 Completed - Training job completed\n",
      "\u001b[31mArguments: train\u001b[0m\n",
      "\u001b[31m[2019-11-10:15:39:41:INFO] Running standalone xgboost training.\u001b[0m\n",
      "\u001b[31m[2019-11-10:15:39:41:INFO] File size need to be processed in the node: 0.65mb. Available memory size in the node: 8584.8mb\u001b[0m\n",
      "\u001b[31m[2019-11-10:15:39:41:INFO] Determined delimiter of CSV input is ','\u001b[0m\n",
      "\u001b[31m[15:39:41] S3DistributionType set as FullyReplicated\u001b[0m\n",
      "\u001b[31m[15:39:41] 7620x13 matrix with 99060 entries loaded from /opt/ml/input/data/train?format=csv&label_column=0&delimiter=,\u001b[0m\n",
      "\u001b[31m[2019-11-10:15:39:41:INFO] Determined delimiter of CSV input is ','\u001b[0m\n",
      "\u001b[31m[15:39:41] S3DistributionType set as FullyReplicated\u001b[0m\n",
      "\u001b[31m[15:39:41] 3266x13 matrix with 42458 entries loaded from /opt/ml/input/data/validation?format=csv&label_column=0&delimiter=,\u001b[0m\n",
      "\u001b[31m[15:39:41] src/tree/updater_prune.cc:74: tree pruning end, 1 roots, 54 extra nodes, 0 pruned nodes, max_depth=5\u001b[0m\n",
      "\u001b[31m[0]#011train-rmse:3.90481#011validation-rmse:3.915\u001b[0m\n",
      "\u001b[31m[15:39:41] src/tree/updater_prune.cc:74: tree pruning end, 1 roots, 54 extra nodes, 0 pruned nodes, max_depth=5\u001b[0m\n",
      "\u001b[31m[1]#011train-rmse:3.52571#011validation-rmse:3.53473\u001b[0m\n",
      "\u001b[31m[15:39:41] src/tree/updater_prune.cc:74: tree pruning end, 1 roots, 56 extra nodes, 0 pruned nodes, max_depth=5\u001b[0m\n",
      "\u001b[31m[2]#011train-rmse:3.18357#011validation-rmse:3.19135\u001b[0m\n",
      "\u001b[31m[15:39:41] src/tree/updater_prune.cc:74: tree pruning end, 1 roots, 58 extra nodes, 0 pruned nodes, max_depth=5\u001b[0m\n",
      "\u001b[31m[3]#011train-rmse:2.87753#011validation-rmse:2.88396\u001b[0m\n",
      "\u001b[31m[15:39:41] src/tree/updater_prune.cc:74: tree pruning end, 1 roots, 58 extra nodes, 0 pruned nodes, max_depth=5\u001b[0m\n",
      "\u001b[31m[4]#011train-rmse:2.60175#011validation-rmse:2.60792\u001b[0m\n",
      "\u001b[31m[15:39:41] src/tree/updater_prune.cc:74: tree pruning end, 1 roots, 58 extra nodes, 0 pruned nodes, max_depth=5\u001b[0m\n",
      "\u001b[31m[5]#011train-rmse:2.35539#011validation-rmse:2.36057\u001b[0m\n",
      "\u001b[31m[15:39:41] src/tree/updater_prune.cc:74: tree pruning end, 1 roots, 56 extra nodes, 0 pruned nodes, max_depth=5\u001b[0m\n",
      "\u001b[31m[6]#011train-rmse:2.13328#011validation-rmse:2.13766\u001b[0m\n",
      "\u001b[31m[15:39:41] src/tree/updater_prune.cc:74: tree pruning end, 1 roots, 62 extra nodes, 0 pruned nodes, max_depth=5\u001b[0m\n",
      "\u001b[31m[7]#011train-rmse:1.93436#011validation-rmse:1.93815\u001b[0m\n",
      "\u001b[31m[15:39:41] src/tree/updater_prune.cc:74: tree pruning end, 1 roots, 60 extra nodes, 0 pruned nodes, max_depth=5\u001b[0m\n",
      "\u001b[31m[8]#011train-rmse:1.75541#011validation-rmse:1.75955\u001b[0m\n",
      "\u001b[31m[15:39:41] src/tree/updater_prune.cc:74: tree pruning end, 1 roots, 60 extra nodes, 0 pruned nodes, max_depth=5\u001b[0m\n",
      "\u001b[31m[9]#011train-rmse:1.59684#011validation-rmse:1.60086\u001b[0m\n",
      "\u001b[31m[15:39:41] src/tree/updater_prune.cc:74: tree pruning end, 1 roots, 62 extra nodes, 0 pruned nodes, max_depth=5\u001b[0m\n",
      "\u001b[31m[10]#011train-rmse:1.4523#011validation-rmse:1.45613\u001b[0m\n",
      "\u001b[31m[15:39:41] src/tree/updater_prune.cc:74: tree pruning end, 1 roots, 62 extra nodes, 0 pruned nodes, max_depth=5\u001b[0m\n",
      "\u001b[31m[11]#011train-rmse:1.32451#011validation-rmse:1.32875\u001b[0m\n",
      "\u001b[31m[15:39:41] src/tree/updater_prune.cc:74: tree pruning end, 1 roots, 62 extra nodes, 0 pruned nodes, max_depth=5\u001b[0m\n",
      "\u001b[31m[12]#011train-rmse:1.21094#011validation-rmse:1.21528\u001b[0m\n",
      "\u001b[31m[15:39:41] src/tree/updater_prune.cc:74: tree pruning end, 1 roots, 62 extra nodes, 0 pruned nodes, max_depth=5\u001b[0m\n",
      "\u001b[31m[13]#011train-rmse:1.10819#011validation-rmse:1.1128\u001b[0m\n",
      "\u001b[31m[15:39:41] src/tree/updater_prune.cc:74: tree pruning end, 1 roots, 62 extra nodes, 0 pruned nodes, max_depth=5\u001b[0m\n",
      "\u001b[31m[14]#011train-rmse:1.01308#011validation-rmse:1.01895\u001b[0m\n",
      "\u001b[31m[15:39:41] src/tree/updater_prune.cc:74: tree pruning end, 1 roots, 62 extra nodes, 0 pruned nodes, max_depth=5\u001b[0m\n",
      "\u001b[31m[15]#011train-rmse:0.930727#011validation-rmse:0.936581\u001b[0m\n",
      "\u001b[31m[15:39:41] src/tree/updater_prune.cc:74: tree pruning end, 1 roots, 62 extra nodes, 0 pruned nodes, max_depth=5\u001b[0m\n",
      "\u001b[31m[16]#011train-rmse:0.859048#011validation-rmse:0.86507\u001b[0m\n",
      "\u001b[31m[15:39:41] src/tree/updater_prune.cc:74: tree pruning end, 1 roots, 62 extra nodes, 0 pruned nodes, max_depth=5\u001b[0m\n",
      "\u001b[31m[17]#011train-rmse:0.796008#011validation-rmse:0.802971\u001b[0m\n",
      "\u001b[31m[15:39:41] src/tree/updater_prune.cc:74: tree pruning end, 1 roots, 62 extra nodes, 0 pruned nodes, max_depth=5\u001b[0m\n",
      "\u001b[31m[18]#011train-rmse:0.739819#011validation-rmse:0.747665\u001b[0m\n",
      "\u001b[31m[15:39:41] src/tree/updater_prune.cc:74: tree pruning end, 1 roots, 62 extra nodes, 0 pruned nodes, max_depth=5\u001b[0m\n",
      "\u001b[31m[19]#011train-rmse:0.691139#011validation-rmse:0.699548\u001b[0m\n",
      "\u001b[31m[15:39:41] src/tree/updater_prune.cc:74: tree pruning end, 1 roots, 62 extra nodes, 0 pruned nodes, max_depth=5\u001b[0m\n",
      "\u001b[31m[20]#011train-rmse:0.645116#011validation-rmse:0.654478\u001b[0m\n",
      "\u001b[31m[15:39:41] src/tree/updater_prune.cc:74: tree pruning end, 1 roots, 62 extra nodes, 0 pruned nodes, max_depth=5\u001b[0m\n",
      "\u001b[31m[21]#011train-rmse:0.603503#011validation-rmse:0.61416\u001b[0m\n",
      "\u001b[31m[15:39:41] src/tree/updater_prune.cc:74: tree pruning end, 1 roots, 62 extra nodes, 0 pruned nodes, max_depth=5\u001b[0m\n",
      "\u001b[31m[22]#011train-rmse:0.569957#011validation-rmse:0.581494\u001b[0m\n",
      "\u001b[31m[15:39:41] src/tree/updater_prune.cc:74: tree pruning end, 1 roots, 62 extra nodes, 0 pruned nodes, max_depth=5\u001b[0m\n",
      "\u001b[31m[23]#011train-rmse:0.53829#011validation-rmse:0.550411\u001b[0m\n",
      "\u001b[31m[15:39:41] src/tree/updater_prune.cc:74: tree pruning end, 1 roots, 62 extra nodes, 0 pruned nodes, max_depth=5\u001b[0m\n",
      "\u001b[31m[24]#011train-rmse:0.508124#011validation-rmse:0.521634\u001b[0m\n",
      "\u001b[31m[15:39:41] src/tree/updater_prune.cc:74: tree pruning end, 1 roots, 62 extra nodes, 0 pruned nodes, max_depth=5\u001b[0m\n",
      "\u001b[31m[25]#011train-rmse:0.485737#011validation-rmse:0.500227\u001b[0m\n",
      "\u001b[31m[15:39:41] src/tree/updater_prune.cc:74: tree pruning end, 1 roots, 62 extra nodes, 0 pruned nodes, max_depth=5\u001b[0m\n",
      "\u001b[31m[26]#011train-rmse:0.465202#011validation-rmse:0.48054\u001b[0m\n",
      "\u001b[31m[15:39:41] src/tree/updater_prune.cc:74: tree pruning end, 1 roots, 62 extra nodes, 0 pruned nodes, max_depth=5\u001b[0m\n",
      "\u001b[31m[27]#011train-rmse:0.447992#011validation-rmse:0.46408\u001b[0m\n",
      "\u001b[31m[15:39:41] src/tree/updater_prune.cc:74: tree pruning end, 1 roots, 62 extra nodes, 0 pruned nodes, max_depth=5\u001b[0m\n",
      "\u001b[31m[28]#011train-rmse:0.432574#011validation-rmse:0.449276\u001b[0m\n",
      "\u001b[31m[15:39:41] src/tree/updater_prune.cc:74: tree pruning end, 1 roots, 62 extra nodes, 0 pruned nodes, max_depth=5\u001b[0m\n",
      "\u001b[31m[29]#011train-rmse:0.415215#011validation-rmse:0.433036\u001b[0m\n",
      "\u001b[31m[15:39:41] src/tree/updater_prune.cc:74: tree pruning end, 1 roots, 62 extra nodes, 0 pruned nodes, max_depth=5\u001b[0m\n",
      "\u001b[31m[30]#011train-rmse:0.402892#011validation-rmse:0.421014\u001b[0m\n",
      "\u001b[31m[15:39:41] src/tree/updater_prune.cc:74: tree pruning end, 1 roots, 62 extra nodes, 0 pruned nodes, max_depth=5\u001b[0m\n",
      "\u001b[31m[31]#011train-rmse:0.390768#011validation-rmse:0.409644\u001b[0m\n",
      "\u001b[31m[15:39:41] src/tree/updater_prune.cc:74: tree pruning end, 1 roots, 62 extra nodes, 0 pruned nodes, max_depth=5\u001b[0m\n",
      "\u001b[31m[32]#011train-rmse:0.378094#011validation-rmse:0.397333\u001b[0m\n",
      "\u001b[31m[15:39:41] src/tree/updater_prune.cc:74: tree pruning end, 1 roots, 50 extra nodes, 0 pruned nodes, max_depth=5\u001b[0m\n",
      "\u001b[31m[33]#011train-rmse:0.369529#011validation-rmse:0.389706\u001b[0m\n",
      "\u001b[31m[15:39:41] src/tree/updater_prune.cc:74: tree pruning end, 1 roots, 60 extra nodes, 0 pruned nodes, max_depth=5\u001b[0m\n",
      "\u001b[31m[34]#011train-rmse:0.362199#011validation-rmse:0.382773\u001b[0m\n",
      "\u001b[31m[15:39:41] src/tree/updater_prune.cc:74: tree pruning end, 1 roots, 48 extra nodes, 0 pruned nodes, max_depth=5\u001b[0m\n",
      "\u001b[31m[35]#011train-rmse:0.356893#011validation-rmse:0.378007\u001b[0m\n",
      "\u001b[31m[15:39:41] src/tree/updater_prune.cc:74: tree pruning end, 1 roots, 62 extra nodes, 0 pruned nodes, max_depth=5\u001b[0m\n",
      "\u001b[31m[36]#011train-rmse:0.351623#011validation-rmse:0.373425\u001b[0m\n",
      "\u001b[31m[15:39:41] src/tree/updater_prune.cc:74: tree pruning end, 1 roots, 62 extra nodes, 0 pruned nodes, max_depth=5\u001b[0m\n",
      "\u001b[31m[37]#011train-rmse:0.347436#011validation-rmse:0.369652\u001b[0m\n",
      "\u001b[31m[15:39:41] src/tree/updater_prune.cc:74: tree pruning end, 1 roots, 62 extra nodes, 0 pruned nodes, max_depth=5\u001b[0m\n",
      "\u001b[31m[38]#011train-rmse:0.336783#011validation-rmse:0.359546\u001b[0m\n",
      "\u001b[31m[15:39:41] src/tree/updater_prune.cc:74: tree pruning end, 1 roots, 58 extra nodes, 0 pruned nodes, max_depth=5\u001b[0m\n",
      "\u001b[31m[39]#011train-rmse:0.333616#011validation-rmse:0.356714\u001b[0m\n",
      "\u001b[31m[15:39:41] src/tree/updater_prune.cc:74: tree pruning end, 1 roots, 62 extra nodes, 0 pruned nodes, max_depth=5\u001b[0m\n",
      "\u001b[31m[40]#011train-rmse:0.329495#011validation-rmse:0.352746\u001b[0m\n",
      "\u001b[31m[15:39:41] src/tree/updater_prune.cc:74: tree pruning end, 1 roots, 62 extra nodes, 0 pruned nodes, max_depth=5\u001b[0m\n",
      "\u001b[31m[41]#011train-rmse:0.326881#011validation-rmse:0.350815\u001b[0m\n",
      "\u001b[31m[15:39:41] src/tree/updater_prune.cc:74: tree pruning end, 1 roots, 62 extra nodes, 0 pruned nodes, max_depth=5\u001b[0m\n",
      "\u001b[31m[42]#011train-rmse:0.323964#011validation-rmse:0.348364\u001b[0m\n",
      "\u001b[31m[15:39:41] src/tree/updater_prune.cc:74: tree pruning end, 1 roots, 62 extra nodes, 0 pruned nodes, max_depth=5\u001b[0m\n",
      "\u001b[31m[43]#011train-rmse:0.321501#011validation-rmse:0.346396\u001b[0m\n",
      "\u001b[31m[15:39:41] src/tree/updater_prune.cc:74: tree pruning end, 1 roots, 62 extra nodes, 0 pruned nodes, max_depth=5\u001b[0m\n",
      "\u001b[31m[44]#011train-rmse:0.317631#011validation-rmse:0.342931\u001b[0m\n",
      "\u001b[31m[15:39:41] src/tree/updater_prune.cc:74: tree pruning end, 1 roots, 60 extra nodes, 0 pruned nodes, max_depth=5\u001b[0m\n",
      "\u001b[31m[45]#011train-rmse:0.315924#011validation-rmse:0.341521\u001b[0m\n",
      "\u001b[31m[15:39:41] src/tree/updater_prune.cc:74: tree pruning end, 1 roots, 62 extra nodes, 0 pruned nodes, max_depth=5\u001b[0m\n",
      "\u001b[31m[46]#011train-rmse:0.313955#011validation-rmse:0.339948\u001b[0m\n",
      "\u001b[31m[15:39:41] src/tree/updater_prune.cc:74: tree pruning end, 1 roots, 62 extra nodes, 0 pruned nodes, max_depth=5\u001b[0m\n",
      "\u001b[31m[47]#011train-rmse:0.306913#011validation-rmse:0.333061\u001b[0m\n",
      "\u001b[31m[15:39:41] src/tree/updater_prune.cc:74: tree pruning end, 1 roots, 62 extra nodes, 0 pruned nodes, max_depth=5\u001b[0m\n",
      "\u001b[31m[48]#011train-rmse:0.304793#011validation-rmse:0.331607\u001b[0m\n",
      "\u001b[31m[15:39:41] src/tree/updater_prune.cc:74: tree pruning end, 1 roots, 60 extra nodes, 0 pruned nodes, max_depth=5\u001b[0m\n",
      "\u001b[31m[49]#011train-rmse:0.303326#011validation-rmse:0.33069\u001b[0m\n",
      "\u001b[31m[15:39:41] src/tree/updater_prune.cc:74: tree pruning end, 1 roots, 62 extra nodes, 0 pruned nodes, max_depth=5\u001b[0m\n",
      "\u001b[31m[50]#011train-rmse:0.302073#011validation-rmse:0.329927\u001b[0m\n",
      "\u001b[31m[15:39:41] src/tree/updater_prune.cc:74: tree pruning end, 1 roots, 62 extra nodes, 0 pruned nodes, max_depth=5\u001b[0m\n",
      "\u001b[31m[51]#011train-rmse:0.300661#011validation-rmse:0.32894\u001b[0m\n",
      "\u001b[31m[15:39:41] src/tree/updater_prune.cc:74: tree pruning end, 1 roots, 62 extra nodes, 0 pruned nodes, max_depth=5\u001b[0m\n",
      "\u001b[31m[52]#011train-rmse:0.299211#011validation-rmse:0.327992\u001b[0m\n",
      "\u001b[31m[15:39:41] src/tree/updater_prune.cc:74: tree pruning end, 1 roots, 58 extra nodes, 0 pruned nodes, max_depth=5\u001b[0m\n",
      "\u001b[31m[53]#011train-rmse:0.29513#011validation-rmse:0.324313\u001b[0m\n",
      "\u001b[31m[15:39:41] src/tree/updater_prune.cc:74: tree pruning end, 1 roots, 62 extra nodes, 0 pruned nodes, max_depth=5\u001b[0m\n",
      "\u001b[31m[54]#011train-rmse:0.293532#011validation-rmse:0.323187\u001b[0m\n",
      "\u001b[31m[15:39:41] src/tree/updater_prune.cc:74: tree pruning end, 1 roots, 60 extra nodes, 0 pruned nodes, max_depth=5\u001b[0m\n",
      "\u001b[31m[55]#011train-rmse:0.292478#011validation-rmse:0.322857\u001b[0m\n",
      "\u001b[31m[15:39:41] src/tree/updater_prune.cc:74: tree pruning end, 1 roots, 58 extra nodes, 0 pruned nodes, max_depth=5\u001b[0m\n",
      "\u001b[31m[56]#011train-rmse:0.288418#011validation-rmse:0.319301\u001b[0m\n",
      "\u001b[31m[15:39:41] src/tree/updater_prune.cc:74: tree pruning end, 1 roots, 62 extra nodes, 0 pruned nodes, max_depth=5\u001b[0m\n",
      "\u001b[31m[57]#011train-rmse:0.287361#011validation-rmse:0.318628\u001b[0m\n",
      "\u001b[31m[15:39:41] src/tree/updater_prune.cc:74: tree pruning end, 1 roots, 62 extra nodes, 0 pruned nodes, max_depth=5\u001b[0m\n",
      "\u001b[31m[58]#011train-rmse:0.286105#011validation-rmse:0.317638\u001b[0m\n",
      "\u001b[31m[15:39:41] src/tree/updater_prune.cc:74: tree pruning end, 1 roots, 62 extra nodes, 0 pruned nodes, max_depth=5\u001b[0m\n",
      "\u001b[31m[59]#011train-rmse:0.284902#011validation-rmse:0.317074\u001b[0m\n",
      "\u001b[31m[15:39:41] src/tree/updater_prune.cc:74: tree pruning end, 1 roots, 56 extra nodes, 0 pruned nodes, max_depth=5\u001b[0m\n",
      "\u001b[31m[60]#011train-rmse:0.284445#011validation-rmse:0.316893\u001b[0m\n",
      "\u001b[31m[15:39:41] src/tree/updater_prune.cc:74: tree pruning end, 1 roots, 62 extra nodes, 0 pruned nodes, max_depth=5\u001b[0m\n",
      "\u001b[31m[61]#011train-rmse:0.283255#011validation-rmse:0.316004\u001b[0m\n",
      "\u001b[31m[15:39:41] src/tree/updater_prune.cc:74: tree pruning end, 1 roots, 58 extra nodes, 0 pruned nodes, max_depth=5\u001b[0m\n",
      "\u001b[31m[62]#011train-rmse:0.280049#011validation-rmse:0.313223\u001b[0m\n",
      "\u001b[31m[15:39:41] src/tree/updater_prune.cc:74: tree pruning end, 1 roots, 62 extra nodes, 0 pruned nodes, max_depth=5\u001b[0m\n",
      "\u001b[31m[63]#011train-rmse:0.277139#011validation-rmse:0.310545\u001b[0m\n",
      "\u001b[31m[15:39:41] src/tree/updater_prune.cc:74: tree pruning end, 1 roots, 62 extra nodes, 0 pruned nodes, max_depth=5\u001b[0m\n",
      "\u001b[31m[64]#011train-rmse:0.276361#011validation-rmse:0.310189\u001b[0m\n",
      "\u001b[31m[15:39:41] src/tree/updater_prune.cc:74: tree pruning end, 1 roots, 62 extra nodes, 0 pruned nodes, max_depth=5\u001b[0m\n",
      "\u001b[31m[65]#011train-rmse:0.275314#011validation-rmse:0.309661\u001b[0m\n",
      "\u001b[31m[15:39:41] src/tree/updater_prune.cc:74: tree pruning end, 1 roots, 56 extra nodes, 0 pruned nodes, max_depth=5\u001b[0m\n",
      "\u001b[31m[66]#011train-rmse:0.274953#011validation-rmse:0.309614\u001b[0m\n",
      "\u001b[31m[15:39:41] src/tree/updater_prune.cc:74: tree pruning end, 1 roots, 58 extra nodes, 0 pruned nodes, max_depth=5\u001b[0m\n",
      "\u001b[31m[67]#011train-rmse:0.272614#011validation-rmse:0.307508\u001b[0m\n",
      "\u001b[31m[15:39:41] src/tree/updater_prune.cc:74: tree pruning end, 1 roots, 62 extra nodes, 0 pruned nodes, max_depth=5\u001b[0m\n",
      "\u001b[31m[68]#011train-rmse:0.27181#011validation-rmse:0.307187\u001b[0m\n",
      "\u001b[31m[15:39:41] src/tree/updater_prune.cc:74: tree pruning end, 1 roots, 62 extra nodes, 0 pruned nodes, max_depth=5\u001b[0m\n",
      "\u001b[31m[69]#011train-rmse:0.270858#011validation-rmse:0.306733\u001b[0m\n",
      "\u001b[31m[15:39:41] src/tree/updater_prune.cc:74: tree pruning end, 1 roots, 62 extra nodes, 0 pruned nodes, max_depth=5\u001b[0m\n",
      "\u001b[31m[70]#011train-rmse:0.269216#011validation-rmse:0.305266\u001b[0m\n",
      "\u001b[31m[15:39:41] src/tree/updater_prune.cc:74: tree pruning end, 1 roots, 60 extra nodes, 0 pruned nodes, max_depth=5\u001b[0m\n",
      "\u001b[31m[71]#011train-rmse:0.268576#011validation-rmse:0.305045\u001b[0m\n",
      "\u001b[31m[15:39:41] src/tree/updater_prune.cc:74: tree pruning end, 1 roots, 62 extra nodes, 0 pruned nodes, max_depth=5\u001b[0m\n",
      "\u001b[31m[72]#011train-rmse:0.268009#011validation-rmse:0.304844\u001b[0m\n",
      "\u001b[31m[15:39:41] src/tree/updater_prune.cc:74: tree pruning end, 1 roots, 62 extra nodes, 0 pruned nodes, max_depth=5\u001b[0m\n",
      "\u001b[31m[73]#011train-rmse:0.267088#011validation-rmse:0.304133\u001b[0m\n",
      "\u001b[31m[15:39:41] src/tree/updater_prune.cc:74: tree pruning end, 1 roots, 62 extra nodes, 0 pruned nodes, max_depth=5\u001b[0m\n",
      "\u001b[31m[74]#011train-rmse:0.266438#011validation-rmse:0.303784\u001b[0m\n",
      "\u001b[31m[15:39:41] src/tree/updater_prune.cc:74: tree pruning end, 1 roots, 62 extra nodes, 0 pruned nodes, max_depth=5\u001b[0m\n",
      "\u001b[31m[75]#011train-rmse:0.265806#011validation-rmse:0.303449\u001b[0m\n",
      "\u001b[31m[15:39:41] src/tree/updater_prune.cc:74: tree pruning end, 1 roots, 58 extra nodes, 0 pruned nodes, max_depth=5\u001b[0m\n",
      "\u001b[31m[76]#011train-rmse:0.265282#011validation-rmse:0.303281\u001b[0m\n",
      "\u001b[31m[15:39:41] src/tree/updater_prune.cc:74: tree pruning end, 1 roots, 46 extra nodes, 0 pruned nodes, max_depth=5\u001b[0m\n",
      "\u001b[31m[77]#011train-rmse:0.264917#011validation-rmse:0.303059\u001b[0m\n",
      "\u001b[31m[15:39:41] src/tree/updater_prune.cc:74: tree pruning end, 1 roots, 62 extra nodes, 0 pruned nodes, max_depth=5\u001b[0m\n",
      "\u001b[31m[78]#011train-rmse:0.263474#011validation-rmse:0.301825\u001b[0m\n",
      "\u001b[31m[15:39:41] src/tree/updater_prune.cc:74: tree pruning end, 1 roots, 62 extra nodes, 0 pruned nodes, max_depth=5\u001b[0m\n",
      "\u001b[31m[79]#011train-rmse:0.262623#011validation-rmse:0.301455\u001b[0m\n",
      "\u001b[31m[15:39:41] src/tree/updater_prune.cc:74: tree pruning end, 1 roots, 62 extra nodes, 0 pruned nodes, max_depth=5\u001b[0m\n",
      "\u001b[31m[80]#011train-rmse:0.261905#011validation-rmse:0.30091\u001b[0m\n",
      "\u001b[31m[15:39:41] src/tree/updater_prune.cc:74: tree pruning end, 1 roots, 62 extra nodes, 0 pruned nodes, max_depth=5\u001b[0m\n",
      "\u001b[31m[81]#011train-rmse:0.261178#011validation-rmse:0.3007\u001b[0m\n",
      "\u001b[31m[82]#011train-rmse:0.259859#011validation-rmse:0.29942\u001b[0m\n",
      "\u001b[31m[15:39:41] src/tree/updater_prune.cc:74: tree pruning end, 1 roots, 52 extra nodes, 0 pruned nodes, max_depth=5\u001b[0m\n",
      "\u001b[31m[15:39:41] src/tree/updater_prune.cc:74: tree pruning end, 1 roots, 62 extra nodes, 0 pruned nodes, max_depth=5\u001b[0m\n",
      "\u001b[31m[83]#011train-rmse:0.259206#011validation-rmse:0.29912\u001b[0m\n",
      "\u001b[31m[15:39:41] src/tree/updater_prune.cc:74: tree pruning end, 1 roots, 62 extra nodes, 0 pruned nodes, max_depth=5\u001b[0m\n",
      "\u001b[31m[84]#011train-rmse:0.257769#011validation-rmse:0.298173\u001b[0m\n",
      "\u001b[31m[15:39:41] src/tree/updater_prune.cc:74: tree pruning end, 1 roots, 56 extra nodes, 0 pruned nodes, max_depth=5\u001b[0m\n",
      "\u001b[31m[85]#011train-rmse:0.257324#011validation-rmse:0.297936\u001b[0m\n",
      "\u001b[31m[15:39:41] src/tree/updater_prune.cc:74: tree pruning end, 1 roots, 52 extra nodes, 0 pruned nodes, max_depth=5\u001b[0m\n",
      "\u001b[31m[86]#011train-rmse:0.256728#011validation-rmse:0.297477\u001b[0m\n",
      "\u001b[31m[15:39:41] src/tree/updater_prune.cc:74: tree pruning end, 1 roots, 62 extra nodes, 0 pruned nodes, max_depth=5\u001b[0m\n",
      "\u001b[31m[87]#011train-rmse:0.25604#011validation-rmse:0.297069\u001b[0m\n",
      "\u001b[31m[15:39:41] src/tree/updater_prune.cc:74: tree pruning end, 1 roots, 46 extra nodes, 0 pruned nodes, max_depth=5\u001b[0m\n",
      "\u001b[31m[88]#011train-rmse:0.255616#011validation-rmse:0.29716\u001b[0m\n",
      "\u001b[31m[15:39:41] src/tree/updater_prune.cc:74: tree pruning end, 1 roots, 60 extra nodes, 0 pruned nodes, max_depth=5\u001b[0m\n",
      "\u001b[31m[89]#011train-rmse:0.25403#011validation-rmse:0.295862\u001b[0m\n",
      "\u001b[31m[15:39:41] src/tree/updater_prune.cc:74: tree pruning end, 1 roots, 58 extra nodes, 0 pruned nodes, max_depth=5\u001b[0m\n",
      "\u001b[31m[90]#011train-rmse:0.25352#011validation-rmse:0.295804\u001b[0m\n",
      "\u001b[31m[15:39:41] src/tree/updater_prune.cc:74: tree pruning end, 1 roots, 32 extra nodes, 0 pruned nodes, max_depth=5\u001b[0m\n",
      "\u001b[31m[91]#011train-rmse:0.253429#011validation-rmse:0.295715\u001b[0m\n",
      "\u001b[31m[15:39:41] src/tree/updater_prune.cc:74: tree pruning end, 1 roots, 52 extra nodes, 0 pruned nodes, max_depth=5\u001b[0m\n",
      "\u001b[31m[92]#011train-rmse:0.252981#011validation-rmse:0.29547\u001b[0m\n",
      "\u001b[31m[15:39:41] src/tree/updater_prune.cc:74: tree pruning end, 1 roots, 62 extra nodes, 0 pruned nodes, max_depth=5\u001b[0m\n",
      "\u001b[31m[93]#011train-rmse:0.252083#011validation-rmse:0.29489\u001b[0m\n",
      "\u001b[31m[15:39:41] src/tree/updater_prune.cc:74: tree pruning end, 1 roots, 56 extra nodes, 0 pruned nodes, max_depth=5\u001b[0m\n",
      "\u001b[31m[94]#011train-rmse:0.251752#011validation-rmse:0.294758\u001b[0m\n",
      "\u001b[31m[15:39:41] src/tree/updater_prune.cc:74: tree pruning end, 1 roots, 58 extra nodes, 0 pruned nodes, max_depth=5\u001b[0m\n",
      "\u001b[31m[95]#011train-rmse:0.250829#011validation-rmse:0.294101\u001b[0m\n",
      "\u001b[31m[15:39:41] src/tree/updater_prune.cc:74: tree pruning end, 1 roots, 40 extra nodes, 0 pruned nodes, max_depth=5\u001b[0m\n",
      "\u001b[31m[96]#011train-rmse:0.250736#011validation-rmse:0.294108\u001b[0m\n",
      "\u001b[31m[15:39:41] src/tree/updater_prune.cc:74: tree pruning end, 1 roots, 56 extra nodes, 0 pruned nodes, max_depth=5\u001b[0m\n",
      "\u001b[31m[97]#011train-rmse:0.2504#011validation-rmse:0.293899\u001b[0m\n",
      "\u001b[31m[15:39:41] src/tree/updater_prune.cc:74: tree pruning end, 1 roots, 62 extra nodes, 0 pruned nodes, max_depth=5\u001b[0m\n",
      "\u001b[31m[98]#011train-rmse:0.249883#011validation-rmse:0.293697\u001b[0m\n",
      "\u001b[31m[15:39:41] src/tree/updater_prune.cc:74: tree pruning end, 1 roots, 60 extra nodes, 0 pruned nodes, max_depth=5\u001b[0m\n",
      "\u001b[31m[99]#011train-rmse:0.249296#011validation-rmse:0.293571\u001b[0m\n",
      "\u001b[31m[15:39:41] src/tree/updater_prune.cc:74: tree pruning end, 1 roots, 62 extra nodes, 0 pruned nodes, max_depth=5\u001b[0m\n",
      "\u001b[31m[100]#011train-rmse:0.248318#011validation-rmse:0.292922\u001b[0m\n",
      "\u001b[31m[15:39:41] src/tree/updater_prune.cc:74: tree pruning end, 1 roots, 58 extra nodes, 0 pruned nodes, max_depth=5\u001b[0m\n",
      "\u001b[31m[101]#011train-rmse:0.247974#011validation-rmse:0.292865\u001b[0m\n",
      "\u001b[31m[15:39:41] src/tree/updater_prune.cc:74: tree pruning end, 1 roots, 46 extra nodes, 0 pruned nodes, max_depth=5\u001b[0m\n",
      "\u001b[31m[102]#011train-rmse:0.247726#011validation-rmse:0.292733\u001b[0m\n",
      "\u001b[31m[15:39:41] src/tree/updater_prune.cc:74: tree pruning end, 1 roots, 58 extra nodes, 0 pruned nodes, max_depth=5\u001b[0m\n",
      "\u001b[31m[103]#011train-rmse:0.247042#011validation-rmse:0.292302\u001b[0m\n",
      "\u001b[31m[15:39:41] src/tree/updater_prune.cc:74: tree pruning end, 1 roots, 62 extra nodes, 0 pruned nodes, max_depth=5\u001b[0m\n",
      "\u001b[31m[104]#011train-rmse:0.24644#011validation-rmse:0.291902\u001b[0m\n",
      "\u001b[31m[15:39:41] src/tree/updater_prune.cc:74: tree pruning end, 1 roots, 48 extra nodes, 0 pruned nodes, max_depth=5\u001b[0m\n",
      "\u001b[31m[105]#011train-rmse:0.246164#011validation-rmse:0.291855\u001b[0m\n",
      "\u001b[31m[15:39:41] src/tree/updater_prune.cc:74: tree pruning end, 1 roots, 50 extra nodes, 0 pruned nodes, max_depth=5\u001b[0m\n",
      "\u001b[31m[106]#011train-rmse:0.245975#011validation-rmse:0.291743\u001b[0m\n",
      "\u001b[31m[15:39:41] src/tree/updater_prune.cc:74: tree pruning end, 1 roots, 62 extra nodes, 0 pruned nodes, max_depth=5\u001b[0m\n",
      "\u001b[31m[107]#011train-rmse:0.245522#011validation-rmse:0.291662\u001b[0m\n",
      "\u001b[31m[15:39:41] src/tree/updater_prune.cc:74: tree pruning end, 1 roots, 62 extra nodes, 0 pruned nodes, max_depth=5\u001b[0m\n",
      "\u001b[31m[108]#011train-rmse:0.245111#011validation-rmse:0.291554\u001b[0m\n",
      "\u001b[31m[15:39:41] src/tree/updater_prune.cc:74: tree pruning end, 1 roots, 62 extra nodes, 0 pruned nodes, max_depth=5\u001b[0m\n",
      "\u001b[31m[109]#011train-rmse:0.244497#011validation-rmse:0.291215\u001b[0m\n",
      "\u001b[31m[15:39:41] src/tree/updater_prune.cc:74: tree pruning end, 1 roots, 62 extra nodes, 0 pruned nodes, max_depth=5\u001b[0m\n",
      "\u001b[31m[110]#011train-rmse:0.243923#011validation-rmse:0.291008\u001b[0m\n",
      "\u001b[31m[15:39:41] src/tree/updater_prune.cc:74: tree pruning end, 1 roots, 46 extra nodes, 0 pruned nodes, max_depth=5\u001b[0m\n",
      "\u001b[31m[111]#011train-rmse:0.243791#011validation-rmse:0.290995\u001b[0m\n",
      "\u001b[31m[15:39:41] src/tree/updater_prune.cc:74: tree pruning end, 1 roots, 38 extra nodes, 0 pruned nodes, max_depth=5\u001b[0m\n",
      "\u001b[31m[112]#011train-rmse:0.243583#011validation-rmse:0.290905\u001b[0m\n",
      "\u001b[31m[15:39:41] src/tree/updater_prune.cc:74: tree pruning end, 1 roots, 56 extra nodes, 0 pruned nodes, max_depth=5\u001b[0m\n",
      "\u001b[31m[113]#011train-rmse:0.243392#011validation-rmse:0.290788\u001b[0m\n",
      "\u001b[31m[15:39:41] src/tree/updater_prune.cc:74: tree pruning end, 1 roots, 62 extra nodes, 0 pruned nodes, max_depth=5\u001b[0m\n",
      "\u001b[31m[114]#011train-rmse:0.242621#011validation-rmse:0.290316\u001b[0m\n",
      "\u001b[31m[15:39:41] src/tree/updater_prune.cc:74: tree pruning end, 1 roots, 56 extra nodes, 0 pruned nodes, max_depth=5\u001b[0m\n",
      "\u001b[31m[115]#011train-rmse:0.242317#011validation-rmse:0.290333\u001b[0m\n",
      "\u001b[31m[15:39:41] src/tree/updater_prune.cc:74: tree pruning end, 1 roots, 58 extra nodes, 0 pruned nodes, max_depth=5\u001b[0m\n",
      "\u001b[31m[116]#011train-rmse:0.241817#011validation-rmse:0.289949\u001b[0m\n",
      "\u001b[31m[15:39:41] src/tree/updater_prune.cc:74: tree pruning end, 1 roots, 62 extra nodes, 0 pruned nodes, max_depth=5\u001b[0m\n",
      "\u001b[31m[117]#011train-rmse:0.241413#011validation-rmse:0.289825\u001b[0m\n",
      "\u001b[31m[15:39:41] src/tree/updater_prune.cc:74: tree pruning end, 1 roots, 58 extra nodes, 0 pruned nodes, max_depth=5\u001b[0m\n",
      "\u001b[31m[118]#011train-rmse:0.240825#011validation-rmse:0.289536\u001b[0m\n",
      "\u001b[31m[15:39:41] src/tree/updater_prune.cc:74: tree pruning end, 1 roots, 62 extra nodes, 0 pruned nodes, max_depth=5\u001b[0m\n",
      "\u001b[31m[119]#011train-rmse:0.240248#011validation-rmse:0.289447\u001b[0m\n",
      "\u001b[31m[15:39:41] src/tree/updater_prune.cc:74: tree pruning end, 1 roots, 60 extra nodes, 0 pruned nodes, max_depth=5\u001b[0m\n",
      "\u001b[31m[120]#011train-rmse:0.239964#011validation-rmse:0.289379\u001b[0m\n",
      "\u001b[31m[15:39:41] src/tree/updater_prune.cc:74: tree pruning end, 1 roots, 62 extra nodes, 0 pruned nodes, max_depth=5\u001b[0m\n",
      "\u001b[31m[121]#011train-rmse:0.239508#011validation-rmse:0.28926\u001b[0m\n",
      "\u001b[31m[15:39:41] src/tree/updater_prune.cc:74: tree pruning end, 1 roots, 52 extra nodes, 0 pruned nodes, max_depth=5\u001b[0m\n",
      "\u001b[31m[122]#011train-rmse:0.239288#011validation-rmse:0.28921\u001b[0m\n",
      "\u001b[31m[15:39:41] src/tree/updater_prune.cc:74: tree pruning end, 1 roots, 48 extra nodes, 0 pruned nodes, max_depth=5\u001b[0m\n",
      "\u001b[31m[123]#011train-rmse:0.239146#011validation-rmse:0.289111\u001b[0m\n",
      "\u001b[31m[15:39:41] src/tree/updater_prune.cc:74: tree pruning end, 1 roots, 62 extra nodes, 0 pruned nodes, max_depth=5\u001b[0m\n",
      "\u001b[31m[124]#011train-rmse:0.23864#011validation-rmse:0.288795\u001b[0m\n",
      "\u001b[31m[15:39:41] src/tree/updater_prune.cc:74: tree pruning end, 1 roots, 54 extra nodes, 0 pruned nodes, max_depth=5\u001b[0m\n",
      "\u001b[31m[125]#011train-rmse:0.238174#011validation-rmse:0.28861\u001b[0m\n",
      "\u001b[31m[15:39:41] src/tree/updater_prune.cc:74: tree pruning end, 1 roots, 46 extra nodes, 0 pruned nodes, max_depth=5\u001b[0m\n",
      "\u001b[31m[126]#011train-rmse:0.237956#011validation-rmse:0.288422\u001b[0m\n",
      "\u001b[31m[15:39:41] src/tree/updater_prune.cc:74: tree pruning end, 1 roots, 62 extra nodes, 0 pruned nodes, max_depth=5\u001b[0m\n",
      "\u001b[31m[127]#011train-rmse:0.237445#011validation-rmse:0.28851\u001b[0m\n",
      "\u001b[31m[15:39:41] src/tree/updater_prune.cc:74: tree pruning end, 1 roots, 56 extra nodes, 0 pruned nodes, max_depth=5\u001b[0m\n",
      "\u001b[31m[128]#011train-rmse:0.23713#011validation-rmse:0.288454\u001b[0m\n",
      "\u001b[31m[15:39:41] src/tree/updater_prune.cc:74: tree pruning end, 1 roots, 42 extra nodes, 0 pruned nodes, max_depth=5\u001b[0m\n",
      "\u001b[31m[129]#011train-rmse:0.23696#011validation-rmse:0.288389\u001b[0m\n",
      "\u001b[31m[15:39:41] src/tree/updater_prune.cc:74: tree pruning end, 1 roots, 60 extra nodes, 0 pruned nodes, max_depth=5\u001b[0m\n",
      "\u001b[31m[130]#011train-rmse:0.23653#011validation-rmse:0.288203\u001b[0m\n",
      "\u001b[31m[15:39:41] src/tree/updater_prune.cc:74: tree pruning end, 1 roots, 62 extra nodes, 0 pruned nodes, max_depth=5\u001b[0m\n",
      "\u001b[31m[131]#011train-rmse:0.236067#011validation-rmse:0.288095\u001b[0m\n",
      "\u001b[31m[15:39:41] src/tree/updater_prune.cc:74: tree pruning end, 1 roots, 56 extra nodes, 0 pruned nodes, max_depth=5\u001b[0m\n",
      "\u001b[31m[132]#011train-rmse:0.235798#011validation-rmse:0.288096\u001b[0m\n",
      "\u001b[31m[15:39:41] src/tree/updater_prune.cc:74: tree pruning end, 1 roots, 62 extra nodes, 0 pruned nodes, max_depth=5\u001b[0m\n",
      "\u001b[31m[133]#011train-rmse:0.235283#011validation-rmse:0.287883\u001b[0m\n",
      "\u001b[31m[15:39:41] src/tree/updater_prune.cc:74: tree pruning end, 1 roots, 60 extra nodes, 0 pruned nodes, max_depth=5\u001b[0m\n",
      "\u001b[31m[134]#011train-rmse:0.234849#011validation-rmse:0.287947\u001b[0m\n",
      "\u001b[31m[15:39:41] src/tree/updater_prune.cc:74: tree pruning end, 1 roots, 62 extra nodes, 0 pruned nodes, max_depth=5\u001b[0m\n",
      "\u001b[31m[135]#011train-rmse:0.234621#011validation-rmse:0.28789\u001b[0m\n",
      "\u001b[31m[15:39:41] src/tree/updater_prune.cc:74: tree pruning end, 1 roots, 50 extra nodes, 0 pruned nodes, max_depth=5\u001b[0m\n",
      "\u001b[31m[136]#011train-rmse:0.234471#011validation-rmse:0.287796\u001b[0m\n",
      "\u001b[31m[15:39:41] src/tree/updater_prune.cc:74: tree pruning end, 1 roots, 38 extra nodes, 0 pruned nodes, max_depth=5\u001b[0m\n",
      "\u001b[31m[137]#011train-rmse:0.234296#011validation-rmse:0.287725\u001b[0m\n",
      "\u001b[31m[15:39:41] src/tree/updater_prune.cc:74: tree pruning end, 1 roots, 44 extra nodes, 0 pruned nodes, max_depth=5\u001b[0m\n",
      "\u001b[31m[138]#011train-rmse:0.234167#011validation-rmse:0.287694\u001b[0m\n",
      "\u001b[31m[15:39:41] src/tree/updater_prune.cc:74: tree pruning end, 1 roots, 56 extra nodes, 0 pruned nodes, max_depth=5\u001b[0m\n",
      "\u001b[31m[139]#011train-rmse:0.234036#011validation-rmse:0.287661\u001b[0m\n",
      "\u001b[31m[15:39:41] src/tree/updater_prune.cc:74: tree pruning end, 1 roots, 56 extra nodes, 0 pruned nodes, max_depth=5\u001b[0m\n",
      "\u001b[31m[140]#011train-rmse:0.233799#011validation-rmse:0.287701\u001b[0m\n",
      "\u001b[31m[15:39:41] src/tree/updater_prune.cc:74: tree pruning end, 1 roots, 60 extra nodes, 0 pruned nodes, max_depth=5\u001b[0m\n",
      "\u001b[31m[141]#011train-rmse:0.233351#011validation-rmse:0.287619\u001b[0m\n",
      "\u001b[31m[15:39:41] src/tree/updater_prune.cc:74: tree pruning end, 1 roots, 50 extra nodes, 0 pruned nodes, max_depth=5\u001b[0m\n",
      "\u001b[31m[142]#011train-rmse:0.233271#011validation-rmse:0.287616\u001b[0m\n",
      "\u001b[31m[15:39:41] src/tree/updater_prune.cc:74: tree pruning end, 1 roots, 60 extra nodes, 0 pruned nodes, max_depth=5\u001b[0m\n",
      "\u001b[31m[143]#011train-rmse:0.233156#011validation-rmse:0.287581\u001b[0m\n",
      "\u001b[31m[15:39:41] src/tree/updater_prune.cc:74: tree pruning end, 1 roots, 50 extra nodes, 0 pruned nodes, max_depth=5\u001b[0m\n",
      "\u001b[31m[144]#011train-rmse:0.233068#011validation-rmse:0.287577\u001b[0m\n",
      "\u001b[31m[15:39:41] src/tree/updater_prune.cc:74: tree pruning end, 1 roots, 56 extra nodes, 0 pruned nodes, max_depth=5\u001b[0m\n",
      "\u001b[31m[145]#011train-rmse:0.232562#011validation-rmse:0.287295\u001b[0m\n",
      "\u001b[31m[15:39:41] src/tree/updater_prune.cc:74: tree pruning end, 1 roots, 58 extra nodes, 0 pruned nodes, max_depth=5\u001b[0m\n",
      "\u001b[31m[146]#011train-rmse:0.232108#011validation-rmse:0.286998\u001b[0m\n",
      "\u001b[31m[15:39:41] src/tree/updater_prune.cc:74: tree pruning end, 1 roots, 62 extra nodes, 0 pruned nodes, max_depth=5\u001b[0m\n",
      "\u001b[31m[147]#011train-rmse:0.231565#011validation-rmse:0.286905\u001b[0m\n",
      "\u001b[31m[15:39:41] src/tree/updater_prune.cc:74: tree pruning end, 1 roots, 62 extra nodes, 0 pruned nodes, max_depth=5\u001b[0m\n",
      "\u001b[31m[148]#011train-rmse:0.231239#011validation-rmse:0.286819\u001b[0m\n",
      "\u001b[31m[15:39:41] src/tree/updater_prune.cc:74: tree pruning end, 1 roots, 58 extra nodes, 0 pruned nodes, max_depth=5\u001b[0m\n",
      "\u001b[31m[149]#011train-rmse:0.231105#011validation-rmse:0.286812\u001b[0m\n"
     ]
    },
    {
     "name": "stdout",
     "output_type": "stream",
     "text": [
      "Training seconds: 64\n",
      "Billable seconds: 64\n"
     ]
    }
   ],
   "source": [
    "# XGBoost uses the train and validation channels\n",
    "estimator.fit(data_channels)"
   ]
  },
  {
   "cell_type": "markdown",
   "metadata": {},
   "source": [
    "### Deploy the model"
   ]
  },
  {
   "cell_type": "code",
   "execution_count": 32,
   "metadata": {},
   "outputs": [
    {
     "name": "stdout",
     "output_type": "stream",
     "text": [
      "---------------------------------------------------------------------------------------------------!"
     ]
    }
   ],
   "source": [
    "predictor = estimator.deploy(initial_instance_count=1,\n",
    "                             instance_type='ml.m4.xlarge',\n",
    "                             endpoint_name='xgboost-bikerental-v1')"
   ]
  },
  {
   "cell_type": "markdown",
   "metadata": {},
   "source": [
    "## Invoke the XGBoost cloud prediction template "
   ]
  },
  {
   "cell_type": "code",
   "execution_count": 33,
   "metadata": {},
   "outputs": [],
   "source": [
    "endpoint_name = 'xgboost-bikerental-v1'\n",
    "predictor = sagemaker.predictor.RealTimePredictor(endpoint=endpoint_name)"
   ]
  },
  {
   "cell_type": "code",
   "execution_count": 34,
   "metadata": {},
   "outputs": [],
   "source": [
    "from sagemaker.predictor import csv_serializer, json_deserializer\n",
    "\n",
    "predictor.content_type = 'text/csv'\n",
    "predictor.serializer = csv_serializer\n",
    "predictor.deserializer = None"
   ]
  },
  {
   "cell_type": "code",
   "execution_count": 35,
   "metadata": {},
   "outputs": [],
   "source": [
    "# get the test data from the local notebook instance into a data frame\n",
    "df_all = pd.read_csv('bike_test.csv')"
   ]
  },
  {
   "cell_type": "code",
   "execution_count": 37,
   "metadata": {},
   "outputs": [
    {
     "data": {
      "text/plain": [
       "Index(['datetime', 'season', 'holiday', 'workingday', 'weather', 'temp',\n",
       "       'atemp', 'humidity', 'windspeed', 'year', 'month', 'day', 'dayofweek',\n",
       "       'hour'],\n",
       "      dtype='object')"
      ]
     },
     "execution_count": 37,
     "metadata": {},
     "output_type": "execute_result"
    }
   ],
   "source": [
    "df_all.columns"
   ]
  },
  {
   "cell_type": "code",
   "execution_count": 36,
   "metadata": {},
   "outputs": [],
   "source": [
    "# Need to pass an array to the prediction\n",
    "# can pass a numpy array or a list of values \n",
    "arr_test = df_all[df_all.columns[1:]].values"
   ]
  },
  {
   "cell_type": "code",
   "execution_count": 38,
   "metadata": {},
   "outputs": [
    {
     "name": "stdout",
     "output_type": "stream",
     "text": [
      "(650, 13)\n",
      "(650, 13)\n",
      "(650, 13)\n",
      "(649, 13)\n",
      "(649, 13)\n",
      "(649, 13)\n",
      "(649, 13)\n",
      "(649, 13)\n",
      "(649, 13)\n",
      "(649, 13)\n"
     ]
    }
   ],
   "source": [
    "# for large number of predictions, we can split the input data and\n",
    "# Query the prediction service,\n",
    "# array_split is convenient to specify how many spllits are needed\n",
    "predictions = []\n",
    "for arr in np.array_split(arr_test, 10):\n",
    "    result = predictor.predict(arr)\n",
    "    result = result.decode(\"utf-8\")\n",
    "    result = result.split(',')\n",
    "    print(arr.shape)\n",
    "    predictions += [float(r) for r in result]"
   ]
  },
  {
   "cell_type": "code",
   "execution_count": 41,
   "metadata": {},
   "outputs": [
    {
     "data": {
      "text/plain": [
       "array([  9.29977784,   5.68963495,   4.11209937, ..., 133.68598006,\n",
       "        92.35797767,  52.00191752])"
      ]
     },
     "execution_count": 41,
     "metadata": {},
     "output_type": "execute_result"
    }
   ],
   "source": [
    "np.expm1(predictions)"
   ]
  },
  {
   "cell_type": "code",
   "execution_count": 42,
   "metadata": {},
   "outputs": [],
   "source": [
    "df_all['count'] = np.expm1(predictions)"
   ]
  },
  {
   "cell_type": "code",
   "execution_count": 45,
   "metadata": {},
   "outputs": [],
   "source": [
    "df_all[['datetime','count']].to_csv('predicted_count_cloud.csv', index=False )"
   ]
  },
  {
   "cell_type": "code",
   "execution_count": null,
   "metadata": {},
   "outputs": [],
   "source": []
  }
 ],
 "metadata": {
  "kernelspec": {
   "display_name": "conda_python3",
   "language": "python",
   "name": "conda_python3"
  },
  "language_info": {
   "codemirror_mode": {
    "name": "ipython",
    "version": 3
   },
   "file_extension": ".py",
   "mimetype": "text/x-python",
   "name": "python",
   "nbconvert_exporter": "python",
   "pygments_lexer": "ipython3",
   "version": "3.6.5"
  }
 },
 "nbformat": 4,
 "nbformat_minor": 2
}
