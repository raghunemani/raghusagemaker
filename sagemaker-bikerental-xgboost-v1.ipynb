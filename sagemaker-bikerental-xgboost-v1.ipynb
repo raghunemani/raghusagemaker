{
 "cells": [
  {
   "cell_type": "code",
   "execution_count": 1,
   "metadata": {},
   "outputs": [],
   "source": [
    "# Sage maker notebook. This notebook uses the BileRental data and XGBoost algorithm\n",
    "# The output file will be available for upload to kaggle for the kaggle score ( Need to add this to Readme)"
   ]
  },
  {
   "cell_type": "code",
   "execution_count": 4,
   "metadata": {},
   "outputs": [
    {
     "name": "stdout",
     "output_type": "stream",
     "text": [
      "Solving environment: done\n",
      "\n",
      "\n",
      "==> WARNING: A newer version of conda exists. <==\n",
      "  current version: 4.5.12\n",
      "  latest version: 4.7.12\n",
      "\n",
      "Please update conda by running\n",
      "\n",
      "    $ conda update -n base -c defaults conda\n",
      "\n",
      "\n",
      "\n",
      "## Package Plan ##\n",
      "\n",
      "  environment location: /home/ec2-user/anaconda3/envs/python3\n",
      "\n",
      "  added / updated specs: \n",
      "    - xgboost\n",
      "\n",
      "\n",
      "The following packages will be downloaded:\n",
      "\n",
      "    package                    |            build\n",
      "    ---------------------------|-----------------\n",
      "    _py-xgboost-mutex-2.0      |            cpu_0           8 KB  conda-forge\n",
      "    mkl_fft-1.0.10             |           py36_0         650 KB  conda-forge\n",
      "    mkl_random-1.0.2           |           py36_0         1.3 MB  conda-forge\n",
      "    py-xgboost-0.90            |           py36_4          73 KB  conda-forge\n",
      "    tbb-2019.9                 |       hc9558a2_0         1.4 MB  conda-forge\n",
      "    libxgboost-0.90            |       he1b5a44_4         2.4 MB  conda-forge\n",
      "    openssl-1.0.2t             |       h14c3975_0         3.1 MB  conda-forge\n",
      "    xgboost-0.90               |   py36he1b5a44_4          11 KB  conda-forge\n",
      "    tbb4py-2019.9              |   py36hc9558a2_0         245 KB  conda-forge\n",
      "    ------------------------------------------------------------\n",
      "                                           Total:         9.2 MB\n",
      "\n",
      "The following NEW packages will be INSTALLED:\n",
      "\n",
      "    _py-xgboost-mutex: 2.0-cpu_0             conda-forge\n",
      "    libxgboost:        0.90-he1b5a44_4       conda-forge\n",
      "    py-xgboost:        0.90-py36_4           conda-forge\n",
      "    tbb:               2019.9-hc9558a2_0     conda-forge\n",
      "    tbb4py:            2019.9-py36hc9558a2_0 conda-forge\n",
      "    xgboost:           0.90-py36he1b5a44_4   conda-forge\n",
      "\n",
      "The following packages will be UPDATED:\n",
      "\n",
      "    ca-certificates:   2019.5.15-0                       --> 2019.9.11-hecc5488_0 conda-forge\n",
      "    certifi:           2019.6.16-py36_0                  --> 2019.9.11-py36_0     conda-forge\n",
      "    mkl_fft:           1.0.1-py36h3010b51_0              --> 1.0.10-py36_0        conda-forge\n",
      "    mkl_random:        1.0.1-py36h629b387_0              --> 1.0.2-py36_0         conda-forge\n",
      "    openssl:           1.0.2s-h7b6447c_0                 --> 1.0.2t-h14c3975_0    conda-forge\n",
      "\n",
      "\n",
      "Downloading and Extracting Packages\n",
      "_py-xgboost-mutex-2. | 8 KB      | ##################################### | 100% \n",
      "mkl_fft-1.0.10       | 650 KB    | ##################################### | 100% \n",
      "mkl_random-1.0.2     | 1.3 MB    | ##################################### | 100% \n",
      "py-xgboost-0.90      | 73 KB     | ##################################### | 100% \n",
      "tbb-2019.9           | 1.4 MB    | ##################################### | 100% \n",
      "libxgboost-0.90      | 2.4 MB    | ##################################### | 100% \n",
      "openssl-1.0.2t       | 3.1 MB    | ##################################### | 100% \n",
      "xgboost-0.90         | 11 KB     | ##################################### | 100% \n",
      "tbb4py-2019.9        | 245 KB    | ##################################### | 100% \n",
      "Preparing transaction: done\n",
      "Verifying transaction: done\n",
      "Executing transaction: done\n"
     ]
    }
   ],
   "source": [
    "# Install xgboost on the notebook instance\n",
    "!conda install -y -c conda-forge xgboost"
   ]
  },
  {
   "cell_type": "code",
   "execution_count": 6,
   "metadata": {},
   "outputs": [],
   "source": [
    "# import numpy, pandas, sagemaker, xgboost\n",
    "\n",
    "import sys\n",
    "import math\n",
    "import os\n",
    "import matplotlib.pyplot as plt\n",
    "import numpy as np\n",
    "import pandas as pd\n",
    "\n",
    "import sagemaker\n",
    "from sagemaker import get_execution_role\n",
    "\n",
    "# XGBoost\n",
    "import xgboost as xgb"
   ]
  },
  {
   "cell_type": "code",
   "execution_count": 7,
   "metadata": {},
   "outputs": [],
   "source": [
    "# Sagemaker requires that the target variable be the first variable. \n",
    "# Define the columns to include count as the first vavariable\n",
    "columns = ['count', 'season', 'holiday', 'workingday', 'weather', 'temp',\n",
    "       'atemp', 'humidity', 'windspeed', 'year', 'month', 'day', 'dayofweek','hour']"
   ]
  },
  {
   "cell_type": "code",
   "execution_count": 10,
   "metadata": {},
   "outputs": [],
   "source": [
    "df = pd.read_csv('train.csv', parse_dates=['datetime'], index_col=0)"
   ]
  },
  {
   "cell_type": "code",
   "execution_count": 12,
   "metadata": {},
   "outputs": [],
   "source": [
    "df_test = pd.read_csv('test.csv', parse_dates=['datetime'], index_col=0)"
   ]
  },
  {
   "cell_type": "code",
   "execution_count": 13,
   "metadata": {},
   "outputs": [],
   "source": [
    "# from the index feature get the year, month, day, dayofweek, and hour as new columns\n",
    "def add_features(df):\n",
    "    df['year'] = df.index.year\n",
    "    df['month'] = df.index.month\n",
    "    df['day'] = df.index.day\n",
    "    df['dayofweek'] = df.index.dayofweek\n",
    "    df['hour'] = df.index.hour"
   ]
  },
  {
   "cell_type": "code",
   "execution_count": 14,
   "metadata": {},
   "outputs": [],
   "source": [
    "# add the new features to the df and df_test data frame\n",
    "add_features(df)\n",
    "add_features(df_test)"
   ]
  },
  {
   "cell_type": "code",
   "execution_count": 17,
   "metadata": {},
   "outputs": [
    {
     "data": {
      "text/plain": [
       "count    10886.000000\n",
       "mean         4.591364\n",
       "std          1.419454\n",
       "min          0.693147\n",
       "25%          3.761200\n",
       "50%          4.983607\n",
       "75%          5.652489\n",
       "max          6.885510\n",
       "Name: count, dtype: float64"
      ]
     },
     "execution_count": 17,
     "metadata": {},
     "output_type": "execute_result"
    }
   ],
   "source": [
    "# for the train data frame look at the target column count \n",
    "df['count'].describe()"
   ]
  },
  {
   "cell_type": "code",
   "execution_count": 16,
   "metadata": {},
   "outputs": [],
   "source": [
    "# Log on the count column\n",
    "df['count'] = df['count'].map(np.log1p)"
   ]
  },
  {
   "cell_type": "code",
   "execution_count": 18,
   "metadata": {},
   "outputs": [],
   "source": [
    "# copy the data in the data frame into a csv file. The csv file will be uploaded to s3 bucket to be used by the model\n",
    "df.to_csv('bike_all.csv', index=True, index_label='datetime', columns=columns)"
   ]
  },
  {
   "cell_type": "code",
   "execution_count": null,
   "metadata": {},
   "outputs": [],
   "source": []
  }
 ],
 "metadata": {
  "kernelspec": {
   "display_name": "conda_python3",
   "language": "python",
   "name": "conda_python3"
  },
  "language_info": {
   "codemirror_mode": {
    "name": "ipython",
    "version": 3
   },
   "file_extension": ".py",
   "mimetype": "text/x-python",
   "name": "python",
   "nbconvert_exporter": "python",
   "pygments_lexer": "ipython3",
   "version": "3.6.5"
  }
 },
 "nbformat": 4,
 "nbformat_minor": 2
}
